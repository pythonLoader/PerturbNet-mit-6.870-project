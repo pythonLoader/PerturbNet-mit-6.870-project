{
 "cells": [
  {
   "cell_type": "code",
   "execution_count": 6,
   "metadata": {
    "id": "T_OgOw1gqv7m"
   },
   "outputs": [],
   "source": [
    "import pandas as pd \n",
    "import numpy as np\n",
    "import torch\n",
    "import torch.nn as nn\n",
    "import torch.nn.functional as fn\n",
    "\n",
    "import torch.utils.data as data\n",
    "import torch.optim as optim\n",
    "import torchvision.transforms as transforms\n",
    "\n",
    "import os\n",
    "import sys\n",
    "from tqdm import tqdm\n",
    "import numpy as np\n",
    "import matplotlib.pyplot as plt\n",
    "\n",
    "\n",
    "import VAE"
   ]
  },
  {
   "cell_type": "code",
   "execution_count": 14,
   "metadata": {},
   "outputs": [],
   "source": [
    "import importlib\n",
    "importlib.reload(VAE)\n",
    "from VAE import VanillaVAE\n",
    "from VAE import BaseVAE\n",
    "from VAE import SaveBestModel\n",
    "\n",
    "\n",
    "# importlib.reload(SaveBestModel)"
   ]
  },
  {
   "cell_type": "code",
   "execution_count": 13,
   "metadata": {
    "colab": {
     "base_uri": "https://localhost:8080/"
    },
    "id": "nsCOtNIiQUTv",
    "outputId": "5c8179cf-f4e0-405f-9de1-1a3b8b4976ad"
   },
   "outputs": [
    {
     "name": "stdout",
     "output_type": "stream",
     "text": [
      "(8563, 2273)\n"
     ]
    }
   ],
   "source": [
    "# path = 'drive/MyDrive/ACBProj/ProcessedPerturbSeqData/'\n",
    "# X = load_dataset(path)\n",
    "path = './average_K562_essential_normalized_singlecell_combined.csv'\n",
    "df = pd.read_csv(path)\n",
    "# print(df.columns)\n",
    "df = df.iloc[:,2:]\n",
    "print(df.shape)\n",
    "\n",
    "# os.listdir(path)"
   ]
  },
  {
   "cell_type": "code",
   "execution_count": 9,
   "metadata": {
    "id": "aClgEJUtQpiA"
   },
   "outputs": [],
   "source": [
    "from torch.utils import data\n",
    "\n",
    "class RealDataset(data.Dataset):\n",
    "\n",
    "  def __init__(self, X, y):\n",
    "    # TODO: Your code here.\n",
    "    self.features = X\n",
    "    self.labels = y\n",
    "    # pass\n",
    "  \n",
    "  def __getitem__(self, index):\n",
    "    # TODO: Your code here.\n",
    "    x = self.features[index]\n",
    "    y = self.labels[index]\n",
    "    return x,y\n",
    "    # pass\n",
    "\n",
    "  def __len__(self):\n",
    "    # TODO: Your code here.\n",
    "    return len(self.features)\n",
    "    # pass\n",
    "\n"
   ]
  },
  {
   "cell_type": "code",
   "execution_count": 10,
   "metadata": {
    "id": "jT2Gn_fbQkkr"
   },
   "outputs": [
    {
     "name": "stdout",
     "output_type": "stream",
     "text": [
      "0\n",
      "cuda\n"
     ]
    }
   ],
   "source": [
    "import torch\n",
    "from torch import cuda\n",
    "from scipy.stats import zscore\n",
    "\n",
    "X = df.to_numpy()\n",
    "xt = X.T\n",
    "# xt = np.log1p(xt)\n",
    "\n",
    "\n",
    "# xt = X[0].T\n",
    "os.environ['CUDA_VISIBLE_DEVICES']='3'\n",
    "\n",
    "if cuda.is_available():\n",
    "  device = 'cuda'\n",
    "else:\n",
    "  print('WARNING: you are running this assignment on a cpu!')\n",
    "  device = 'cpu'\n",
    "\n",
    "# torch.cuda.set_device(\"cuda:\")\n",
    "print(torch.cuda.current_device())\n",
    "A = torch.tensor(xt,device=device)\n",
    "B = torch.tensor(xt,device = device)\n",
    "# B = torch.tensor(test_npy, device=device)\n",
    "\n",
    "trainDataset = RealDataset(A,A)\n",
    "testDataset = RealDataset(B,B)\n",
    "\n",
    "batch_size = 128\n",
    "trainloader = data.DataLoader(trainDataset, batch_size=batch_size, shuffle=False)\n",
    "\n",
    "testloader = data.DataLoader(testDataset, batch_size=batch_size, shuffle=False)\n",
    "print(device)"
   ]
  },
  {
   "cell_type": "code",
   "execution_count": 15,
   "metadata": {
    "colab": {
     "base_uri": "https://localhost:8080/"
    },
    "id": "WMsY9efFM7QK",
    "outputId": "39dbb6fd-0199-47e0-e258-b78789fb514e"
   },
   "outputs": [
    {
     "name": "stdout",
     "output_type": "stream",
     "text": [
      "8563 100\n"
     ]
    }
   ],
   "source": [
    "x_dim = xt.shape[1]\n",
    "hidden_dim = 100\n",
    "print(x_dim,hidden_dim)\n",
    "vae = VanillaVAE(x_dim,hidden_dim)\n",
    "vae = vae.to(device)\n",
    "optimizer = optim.AdamW(vae.parameters(), lr=1e-4)\n",
    "save_best_model = SaveBestModel()\n",
    "model_path = \"K563_phenotypes_VAE_alter_all_averaged.pth\""
   ]
  },
  {
   "cell_type": "code",
   "execution_count": 7,
   "metadata": {},
   "outputs": [
    {
     "name": "stdout",
     "output_type": "stream",
     "text": [
      "-1.77307194 1.76553086\n",
      "-0.09192583 0.1071137\n"
     ]
    }
   ],
   "source": [
    "ginny_pig = xt[0]\n",
    "print(np.min(ginny_pig),np.max(ginny_pig))\n",
    "\n",
    "pred,_,_,_ = vae(torch.tensor(ginny_pig,device=device).float())\n",
    "pred = pred.detach().cpu().numpy()\n",
    "print(np.min(pred),np.max(pred))"
   ]
  },
  {
   "cell_type": "code",
   "execution_count": 19,
   "metadata": {
    "colab": {
     "base_uri": "https://localhost:8080/"
    },
    "id": "6juwY8lsHP55",
    "outputId": "40981b3b-8e14-4cee-b609-426e34df2cfa"
   },
   "outputs": [
    {
     "name": "stdout",
     "output_type": "stream",
     "text": [
      "42.2962878 -4.5307273\n"
     ]
    }
   ],
   "source": [
    "print(np.max(xt),np.min(xt))"
   ]
  },
  {
   "cell_type": "code",
   "execution_count": null,
   "metadata": {},
   "outputs": [],
   "source": [
    "class EarlyStopper:\n",
    "    def __init__(self, patience=1, min_delta=0):\n",
    "        self.patience = patience\n",
    "        self.min_delta = min_delta\n",
    "        self.counter = 0\n",
    "        self.min_validation_loss = np.inf\n",
    "\n",
    "    def early_stop(self, validation_loss):\n",
    "        if validation_loss < self.min_validation_loss:\n",
    "            self.min_validation_loss = validation_loss\n",
    "            self.counter = 0\n",
    "        elif validation_loss > (self.min_validation_loss + self.min_delta):\n",
    "            print(\"Validation loss didn't increase much from {} for patience {}\".format(self.min_validation_loss,self.counter))\n",
    "            self.counter += 1\n",
    "            if self.counter >= self.patience:\n",
    "                return True\n",
    "        return False\n",
    "\n",
    "earlystop = EarlyStopper(patience=30,min_delta=0.001)"
   ]
  },
  {
   "cell_type": "code",
   "execution_count": null,
   "metadata": {
    "colab": {
     "base_uri": "https://localhost:8080/",
     "height": 1000
    },
    "id": "ypkLFcA8SuCX",
    "outputId": "e87f95b7-ad4c-4bc0-cf80-a5db7183a4dc"
   },
   "outputs": [
    {
     "name": "stderr",
     "output_type": "stream",
     "text": [
      "100%|███████████████████████████████████████████| 18/18 [00:02<00:00,  7.22it/s]\n",
      "100%|███████████████████████████████████████████| 18/18 [00:00<00:00, 58.03it/s]\n"
     ]
    },
    {
     "name": "stdout",
     "output_type": "stream",
     "text": [
      "\n",
      "Best validation loss: 0.047991883009672165\n",
      "\n",
      "Saving best model for epoch: 1\n",
      "\n"
     ]
    },
    {
     "name": "stderr",
     "output_type": "stream",
     "text": [
      "100%|███████████████████████████████████████████| 18/18 [00:02<00:00,  8.50it/s]\n",
      "100%|███████████████████████████████████████████| 18/18 [00:00<00:00, 57.93it/s]\n"
     ]
    },
    {
     "name": "stdout",
     "output_type": "stream",
     "text": [
      "\n",
      "Best validation loss: 0.046976495534181595\n",
      "\n",
      "Saving best model for epoch: 2\n",
      "\n"
     ]
    },
    {
     "name": "stderr",
     "output_type": "stream",
     "text": [
      "100%|███████████████████████████████████████████| 18/18 [00:02<00:00,  8.39it/s]\n",
      "100%|███████████████████████████████████████████| 18/18 [00:00<00:00, 57.56it/s]\n"
     ]
    },
    {
     "name": "stdout",
     "output_type": "stream",
     "text": [
      "\n",
      "Best validation loss: 0.046626314520835876\n",
      "\n",
      "Saving best model for epoch: 3\n",
      "\n"
     ]
    },
    {
     "name": "stderr",
     "output_type": "stream",
     "text": [
      "100%|███████████████████████████████████████████| 18/18 [00:02<00:00,  8.47it/s]\n",
      "100%|███████████████████████████████████████████| 18/18 [00:00<00:00, 58.05it/s]\n"
     ]
    },
    {
     "name": "stdout",
     "output_type": "stream",
     "text": [
      "\n",
      "Best validation loss: 0.04393000155687332\n",
      "\n",
      "Saving best model for epoch: 4\n",
      "\n"
     ]
    },
    {
     "name": "stderr",
     "output_type": "stream",
     "text": [
      "100%|███████████████████████████████████████████| 18/18 [00:02<00:00,  8.50it/s]\n",
      "100%|███████████████████████████████████████████| 18/18 [00:00<00:00, 58.00it/s]\n"
     ]
    },
    {
     "name": "stdout",
     "output_type": "stream",
     "text": [
      "\n",
      "Best validation loss: 0.04334067553281784\n",
      "\n",
      "Saving best model for epoch: 5\n",
      "\n",
      "[5] Train Loss=0.04360612481832504 Reconstruction Loss=0.04360612481832504 KLD Loss=-53.08762741088867\n",
      "[5] Validation Loss=0.04334067553281784 Reconstruction Loss=0.04334067553281784 KLD Loss=-51.916114807128906\n"
     ]
    },
    {
     "name": "stderr",
     "output_type": "stream",
     "text": [
      "100%|███████████████████████████████████████████| 18/18 [00:02<00:00,  8.41it/s]\n",
      "100%|███████████████████████████████████████████| 18/18 [00:00<00:00, 57.36it/s]\n"
     ]
    },
    {
     "name": "stdout",
     "output_type": "stream",
     "text": [
      "\n",
      "Best validation loss: 0.04302056133747101\n",
      "\n",
      "Saving best model for epoch: 6\n",
      "\n"
     ]
    },
    {
     "name": "stderr",
     "output_type": "stream",
     "text": [
      "100%|███████████████████████████████████████████| 18/18 [00:02<00:00,  8.51it/s]\n",
      "100%|███████████████████████████████████████████| 18/18 [00:00<00:00, 57.72it/s]\n",
      "100%|███████████████████████████████████████████| 18/18 [00:02<00:00,  8.43it/s]\n",
      "100%|███████████████████████████████████████████| 18/18 [00:00<00:00, 58.77it/s]\n",
      "100%|███████████████████████████████████████████| 18/18 [00:02<00:00,  8.48it/s]\n",
      "100%|███████████████████████████████████████████| 18/18 [00:00<00:00, 58.52it/s]\n"
     ]
    },
    {
     "name": "stdout",
     "output_type": "stream",
     "text": [
      "\n",
      "Best validation loss: 0.04268110170960426\n",
      "\n",
      "Saving best model for epoch: 9\n",
      "\n"
     ]
    },
    {
     "name": "stderr",
     "output_type": "stream",
     "text": [
      "100%|███████████████████████████████████████████| 18/18 [00:02<00:00,  8.46it/s]\n",
      "100%|███████████████████████████████████████████| 18/18 [00:00<00:00, 58.24it/s]\n"
     ]
    },
    {
     "name": "stdout",
     "output_type": "stream",
     "text": [
      "[10] Train Loss=0.04398765787482262 Reconstruction Loss=0.04398765787482262 KLD Loss=-68.89276885986328\n",
      "[10] Validation Loss=0.04409599304199219 Reconstruction Loss=0.04409599304199219 KLD Loss=-68.8477554321289\n"
     ]
    },
    {
     "name": "stderr",
     "output_type": "stream",
     "text": [
      "100%|███████████████████████████████████████████| 18/18 [00:02<00:00,  8.47it/s]\n",
      "100%|███████████████████████████████████████████| 18/18 [00:00<00:00, 58.34it/s]\n"
     ]
    },
    {
     "name": "stdout",
     "output_type": "stream",
     "text": [
      "\n",
      "Best validation loss: 0.042119819670915604\n",
      "\n",
      "Saving best model for epoch: 11\n",
      "\n"
     ]
    },
    {
     "name": "stderr",
     "output_type": "stream",
     "text": [
      "100%|███████████████████████████████████████████| 18/18 [00:02<00:00,  8.37it/s]\n",
      "100%|███████████████████████████████████████████| 18/18 [00:00<00:00, 57.88it/s]\n",
      "100%|███████████████████████████████████████████| 18/18 [00:02<00:00,  8.43it/s]\n",
      "100%|███████████████████████████████████████████| 18/18 [00:00<00:00, 57.70it/s]\n"
     ]
    },
    {
     "name": "stdout",
     "output_type": "stream",
     "text": [
      "\n",
      "Best validation loss: 0.041823312640190125\n",
      "\n",
      "Saving best model for epoch: 13\n",
      "\n"
     ]
    },
    {
     "name": "stderr",
     "output_type": "stream",
     "text": [
      "100%|███████████████████████████████████████████| 18/18 [00:02<00:00,  8.45it/s]\n",
      "100%|███████████████████████████████████████████| 18/18 [00:00<00:00, 58.21it/s]\n"
     ]
    },
    {
     "name": "stdout",
     "output_type": "stream",
     "text": [
      "\n",
      "Best validation loss: 0.04177834466099739\n",
      "\n",
      "Saving best model for epoch: 14\n",
      "\n"
     ]
    }
   ],
   "source": [
    "train_loss = []\n",
    "test_loss = []\n",
    "print_every = 5\n",
    "for epoch in range(400):\n",
    "  pcount = 0\n",
    "  ncount = 0\n",
    "  orpcount = 0\n",
    "  orncount = 0\n",
    "  vae.train()\n",
    "  for x, _ in tqdm(trainloader):\n",
    "    \n",
    "    optimizer.zero_grad()\n",
    "   \n",
    "    # x = x\n",
    "    x_pred, x_inp, mu, logvar = vae.forward(x.float())\n",
    "    \n",
    "    loss_dict = vae.loss_function(x_pred.float(), x_inp.float(), mu.float(), logvar.float())\n",
    "    loss = loss_dict['loss']\n",
    "    loss_dict['loss'].backward()\n",
    "    optimizer.step()\n",
    "  \n",
    "  train_loss.append(loss_dict)\n",
    "  \n",
    "  \n",
    "  vae.eval()\n",
    "  for x,_ in tqdm(testloader):\n",
    "    x_pred, x_inp, mu, logvar = vae(x.float())\n",
    "    test_loss_dict = vae.loss_function(x_pred.float(), x_inp.float(), mu.float(), logvar.float())\n",
    "   \n",
    "  test_loss.append(test_loss_dict)\n",
    "  save_best_model(\n",
    "      test_loss_dict['loss'], epoch, vae, optimizer,vae.loss_function,model_path\n",
    "  )\n",
    "\n",
    "  if (epoch+1) % print_every == 0:\n",
    "      print(\"[{}] Train Loss={}\".format(epoch+1, loss_dict['loss']),\"Reconstruction Loss={}\".format(loss_dict['Reconstruction_Loss']),\"KLD Loss={}\".format(loss_dict['KLD']))\n",
    "      print(\"[{}] Validation Loss={}\".format(epoch+1, test_loss_dict['loss']),\"Reconstruction Loss={}\".format(test_loss_dict['Reconstruction_Loss']),\"KLD Loss={}\".format(test_loss_dict['KLD']))\n",
    "      \n",
    "  # if(earlystop.early_stop(test_loss[-1]['loss'].detach().cpu().numpy()) == True):\n",
    "  #   break"
   ]
  },
  {
   "cell_type": "code",
   "execution_count": null,
   "metadata": {},
   "outputs": [],
   "source": [
    "def processLoss(item):\n",
    "    item['loss'] = item['loss'].detach().cpu().numpy().tolist()\n",
    "    item['Reconstruction_Loss'] = item['Reconstruction_Loss'].detach().cpu().numpy().tolist()\n",
    "    item['KLD'] = item['KLD'].detach().cpu().numpy().tolist()\n",
    "    return item\n",
    "\n",
    "count = 0\n",
    "for train,test in zip(train_loss,test_loss):\n",
    "    \n",
    "    # print(count,train,test)\n",
    "    train_loss[count] = processLoss(train)\n",
    "    test_loss[count] = processLoss(test)\n",
    "    count +=1\n",
    "\n",
    "# print(train_loss,test_loss)\n",
    "import json\n",
    "with open('trainLossK562', 'w') as fout:\n",
    "    json.dump(train_loss, fout)\n",
    "    \n",
    "with open('testLossK562', 'w') as fout:\n",
    "    json.dump(test_loss, fout)"
   ]
  },
  {
   "cell_type": "code",
   "execution_count": 18,
   "metadata": {},
   "outputs": [
    {
     "name": "stdout",
     "output_type": "stream",
     "text": [
      "1000 1000\n"
     ]
    },
    {
     "data": {
      "image/png": "[encoded data removed]",
      "text/plain": [
       "<Figure size 640x480 with 1 Axes>"
      ]
     },
     "metadata": {},
     "output_type": "display_data"
    }
   ],
   "source": [
    "print(len(train_loss),len(test_loss))\n",
    "plt.plot(range(1,len(train_loss)+1),train_loss)\n",
    "plt.plot(range(1,len(test_loss)+1),test_loss)\n",
    "plt.show()"
   ]
  },
  {
   "cell_type": "code",
   "execution_count": 29,
   "metadata": {},
   "outputs": [],
   "source": [
    "model = vae\n",
    "path = 'k562.pth'\n",
    "torch.save({\n",
    "    'epoch': epoch,\n",
    "    'model_state_dict': model.state_dict(),\n",
    "    'optimizer_state_dict': optimizer.state_dict(),\n",
    "    'loss': train_loss[epoch],\n",
    "    }, path)"
   ]
  },
  {
   "cell_type": "code",
   "execution_count": 11,
   "metadata": {
    "colab": {
     "base_uri": "https://localhost:8080/"
    },
    "id": "so-Wify-Sd8M",
    "outputId": "d8b73ef6-d037-4bfe-909f-818119fa8456"
   },
   "outputs": [
    {
     "name": "stdout",
     "output_type": "stream",
     "text": [
      "----------------------------------------------------------------\n",
      "        Layer (type)               Output Shape         Param #\n",
      "================================================================\n",
      "            Linear-1           [-1, 2273, 4281]      36,662,484\n",
      "         LeakyReLU-2           [-1, 2273, 4281]               0\n",
      "            Linear-3           [-1, 2273, 2140]       9,163,480\n",
      "         LeakyReLU-4           [-1, 2273, 2140]               0\n",
      "            Linear-5           [-1, 2273, 1070]       2,290,870\n",
      "         LeakyReLU-6           [-1, 2273, 1070]               0\n",
      "            Linear-7            [-1, 2273, 535]         572,985\n",
      "         LeakyReLU-8            [-1, 2273, 535]               0\n",
      "            Linear-9            [-1, 2273, 267]         143,112\n",
      "        LeakyReLU-10            [-1, 2273, 267]               0\n",
      "           Linear-11            [-1, 2273, 100]          26,800\n",
      "           Linear-12            [-1, 2273, 100]          26,800\n",
      "           Linear-13            [-1, 2273, 267]          26,967\n",
      "           Linear-14            [-1, 2273, 535]         143,380\n",
      "        LeakyReLU-15            [-1, 2273, 535]               0\n",
      "           Linear-16           [-1, 2273, 1070]         573,520\n",
      "        LeakyReLU-17           [-1, 2273, 1070]               0\n",
      "           Linear-18           [-1, 2273, 2140]       2,291,940\n",
      "        LeakyReLU-19           [-1, 2273, 2140]               0\n",
      "           Linear-20           [-1, 2273, 4281]       9,165,621\n",
      "        LeakyReLU-21           [-1, 2273, 4281]               0\n",
      "           Linear-22           [-1, 2273, 8563]      36,666,766\n",
      "        LeakyReLU-23           [-1, 2273, 8563]               0\n",
      "           Linear-24           [-1, 2273, 8563]      73,333,532\n",
      "        LeakyReLU-25           [-1, 2273, 8563]               0\n",
      "           Linear-26           [-1, 2273, 8563]      73,333,532\n",
      "             Tanh-27           [-1, 2273, 8563]               0\n",
      "================================================================\n",
      "Total params: 244,421,789\n",
      "Trainable params: 244,421,789\n",
      "Non-trainable params: 0\n",
      "----------------------------------------------------------------\n",
      "Input size (MB): 74.25\n",
      "Forward/backward pass size (MB): 1465.07\n",
      "Params size (MB): 932.40\n",
      "Estimated Total Size (MB): 2471.71\n",
      "----------------------------------------------------------------\n"
     ]
    }
   ],
   "source": [
    "from torchsummary import summary\n",
    "summary(vae,input_size=xt.shape)"
   ]
  },
  {
   "cell_type": "markdown",
   "metadata": {
    "id": "hSrwrvaHinEw"
   },
   "source": [
    "# Inference"
   ]
  },
  {
   "cell_type": "code",
   "execution_count": null,
   "metadata": {
    "colab": {
     "base_uri": "https://localhost:8080/"
    },
    "id": "863CKH7CiZyr",
    "outputId": "fb9cf178-4e0b-4ad7-c442-5d24ef8bf1a9"
   },
   "outputs": [
    {
     "name": "stdout",
     "output_type": "stream",
     "text": [
      "(2273, 8563)\n"
     ]
    }
   ],
   "source": [
    "import torch\n",
    "from torch import cuda\n",
    "\n",
    "if cuda.is_available():\n",
    "  device = 'cuda'\n",
    "else:\n",
    "  print('WARNING: you are running on a cpu!')\n",
    "  device = 'cpu'\n",
    "\n",
    "xt = X[0].T\n",
    "print(xt.shape)\n",
    "A = torch.tensor(xt,device=device)\n",
    "# trainDataset = RealDataset(A,A)\n",
    "\n",
    "batch_size = 16\n",
    "# trainloader = data.DataLoader(trainDataset, batch_size=batch_size, shuffle=True)\n",
    "\n",
    "# model_path = \"drive/MyDrive/ACBProj/VAE_Models/real_dataset_new_hiddSize_10.pth\"\n",
    "\n",
    "x_dim = xt.shape[1]\n",
    "# hidden_dim = 10\n",
    "vae = VanillaVAE(x_dim,hidden_dim).cuda()\n",
    "vae_inf = VanillaVAE(x_dim,hidden_dim)\n",
    "vae_inf.load_state_dict(torch.load(model_path)['model_state_dict'])\n",
    "\n",
    "vae_inf = vae_inf.to(device)"
   ]
  },
  {
   "cell_type": "code",
   "execution_count": 19,
   "metadata": {
    "id": "q0PcH2u_i3PK"
   },
   "outputs": [],
   "source": [
    "from sklearn.cluster import KMeans\n",
    "\n",
    "from sklearn.preprocessing import normalize\n",
    "from sklearn.decomposition import PCA \n",
    "import seaborn as sns\n",
    "import math\n",
    "from sklearn.mixture import GaussianMixture\n",
    "import matplotlib.pyplot as plt\n",
    "\n",
    "vae_inf = vae\n",
    "\n",
    "@torch.no_grad()\n",
    "def inference(A):\n",
    "  A = A.to(device)\n",
    "  # vae_inf = vae_inf.to(device)\n",
    "  x_pred, x, mu, logvar = vae_inf(A.float())\n",
    "  std = torch.exp(0.5 * logvar)\n",
    "  epilson = torch.rand_like(std)\n",
    "  z_vec = std * epilson + mu\n",
    "  # print(mu.shape)\n",
    "  return z_vec,mu\n",
    "\n",
    "\n",
    "z_vec,mu = inference(A)\n",
    "# print(mean.shape)\n",
    "z_vec = z_vec.detach().cpu().numpy()\n",
    "mu = mu.detach().cpu().numpy()"
   ]
  },
  {
   "cell_type": "markdown",
   "metadata": {
    "id": "ZZur1O-T8USD"
   },
   "source": [
    "#TSNE\n"
   ]
  },
  {
   "cell_type": "code",
   "execution_count": 26,
   "metadata": {
    "colab": {
     "base_uri": "https://localhost:8080/"
    },
    "id": "QFqJocwi7Q2u",
    "outputId": "bd2b3c16-26aa-4a42-9673-51f04f93f7f5"
   },
   "outputs": [
    {
     "name": "stderr",
     "output_type": "stream",
     "text": [
      "/home/ssawmya/anaconda3/envs/gpu_env/lib/python3.10/site-packages/sklearn/manifold/_t_sne.py:800: FutureWarning: The default initialization in TSNE will change from 'random' to 'pca' in 1.2.\n",
      "  warnings.warn(\n",
      "/home/ssawmya/anaconda3/envs/gpu_env/lib/python3.10/site-packages/sklearn/manifold/_t_sne.py:810: FutureWarning: The default learning rate in TSNE will change from 200.0 to 'auto' in 1.2.\n",
      "  warnings.warn(\n"
     ]
    },
    {
     "name": "stdout",
     "output_type": "stream",
     "text": [
      "[t-SNE] Computing 91 nearest neighbors...\n",
      "[t-SNE] Indexed 2273 samples in 0.000s...\n",
      "[t-SNE] Computed neighbors for 2273 samples in 0.120s...\n",
      "[t-SNE] Computed conditional probabilities for sample 1000 / 2273\n",
      "[t-SNE] Computed conditional probabilities for sample 2000 / 2273\n",
      "[t-SNE] Computed conditional probabilities for sample 2273 / 2273\n",
      "[t-SNE] Mean sigma: 1.787550\n",
      "[t-SNE] KL divergence after 250 iterations with early exaggeration: 77.325302\n",
      "[t-SNE] KL divergence after 3200 iterations: 2.508595\n"
     ]
    }
   ],
   "source": [
    "from sklearn.manifold import TSNE\n",
    "tsne = TSNE(verbose=1,n_iter=5000)\n",
    "res = tsne.fit_transform(z_vec)"
   ]
  },
  {
   "cell_type": "code",
   "execution_count": 21,
   "metadata": {
    "id": "jbL2OnOu8XgE"
   },
   "outputs": [],
   "source": [
    "def plot_clusters(df,labels):\n",
    "  #Getting unique labels\n",
    "  # print(df.shape)\n",
    "  df['labels'] = labels \n",
    "  u_labels = np.unique(labels)\n",
    "  \n",
    "  #plotting the results:\n",
    "  \n",
    "  for i in u_labels:\n",
    "      plt.scatter(df.values[labels == i , 0] , df.values[labels == i , 1])\n",
    "  plt.legend()\n",
    "  plt.show()"
   ]
  },
  {
   "cell_type": "code",
   "execution_count": 27,
   "metadata": {
    "colab": {
     "base_uri": "https://localhost:8080/",
     "height": 298
    },
    "id": "XjbAy0Zu8bce",
    "outputId": "80f26750-aca6-48a5-f882-cfdf212fd82a"
   },
   "outputs": [
    {
     "data": {
      "text/plain": [
       "<matplotlib.collections.PathCollection at 0x7f30440b9420>"
      ]
     },
     "execution_count": 27,
     "metadata": {},
     "output_type": "execute_result"
    },
    {
     "data": {
      "image/png": "[encoded data removed]",
      "text/plain": [
       "<Figure size 640x480 with 1 Axes>"
      ]
     },
     "metadata": {},
     "output_type": "display_data"
    }
   ],
   "source": [
    "plt.scatter(res[:,0],res[:,1])\n",
    "# kmeans = KMeans(n_clusters= 6)\n",
    " \n",
    "# #predict the labels of clusters.\n",
    "# label = kmeans.fit_predict(res)\n",
    "\n",
    "# np.unique(label,return_counts=True)\n",
    "# df1 = pd.DataFrame(data = res,\n",
    "#                  columns = [\"Component 1\",\n",
    "#                             \"Component 2\"])\n",
    "\n",
    "\n",
    "# plt.title(\"Latent Dim = 100, K = 6\")\n",
    "# plot_clusters(df1,label)"
   ]
  },
  {
   "cell_type": "markdown",
   "metadata": {
    "id": "9BXVOH3k9KAX"
   },
   "source": [
    "#PyMDE\n"
   ]
  },
  {
   "cell_type": "code",
   "execution_count": null,
   "metadata": {
    "colab": {
     "base_uri": "https://localhost:8080/",
     "height": 636
    },
    "id": "qjYnFTHF9LUP",
    "outputId": "2292ef6c-f4e4-4a6e-8730-6e02df37575b"
   },
   "outputs": [
    {
     "name": "stdout",
     "output_type": "stream",
     "text": [
      "Dec 09 12:59:42 PM: Computing 11-nearest neighbors, with max_distance=None\n",
      "Dec 09 12:59:42 PM: Exact nearest neighbors by brute force \n",
      "Dec 09 12:59:42 PM: Computing quadratic initialization.\n"
     ]
    },
    {
     "data": {
      "text/plain": [
       "<matplotlib.axes._subplots.AxesSubplot at 0x7fcc8e24ea00>"
      ]
     },
     "execution_count": 22,
     "metadata": {},
     "output_type": "execute_result"
    },
    {
     "data": {
      "image/png": "[encoded data removed]",
      "text/plain": [
       "<Figure size 576x576 with 2 Axes>"
      ]
     },
     "metadata": {
      "needs_background": "light"
     },
     "output_type": "display_data"
    }
   ],
   "source": [
    "# !pip install pymde\n",
    "import pymde\n",
    "embedding = pymde.preserve_neighbors(mu, embedding_dim=2, verbose=True).embed()\n",
    "pymde.plot(embedding,color_by=label)"
   ]
  },
  {
   "cell_type": "markdown",
   "metadata": {
    "id": "NZgaWC0LjJLp"
   },
   "source": [
    "# Elbow"
   ]
  },
  {
   "cell_type": "code",
   "execution_count": null,
   "metadata": {
    "id": "tq1KaZWPh96A"
   },
   "outputs": [],
   "source": [
    "from sklearn.cluster import KMeans\n",
    "from sklearn import metrics\n",
    "from scipy.spatial.distance import cdist\n",
    "distortions = []\n",
    "inertias = []\n",
    "mapping1 = {}\n",
    "mapping2 = {}\n",
    "K = range(1, 20)\n",
    "  \n",
    "for k in K:\n",
    "    # Building and fitting the model\n",
    "    kmeanModel = KMeans(n_clusters=k).fit(mu)\n",
    "    kmeanModel.fit(mu)\n",
    "  \n",
    "    distortions.append(sum(np.min(cdist(z_vec, kmeanModel.cluster_centers_,\n",
    "                                        'euclidean'), axis=1)) / z_vec.shape[0])\n",
    "    inertias.append(kmeanModel.inertia_)\n",
    "  \n",
    "    mapping1[k] = sum(np.min(cdist(z_vec, kmeanModel.cluster_centers_,\n",
    "                                   'euclidean'), axis=1)) / z_vec.shape[0]\n",
    "    mapping2[k] = kmeanModel.inertia_"
   ]
  },
  {
   "cell_type": "code",
   "execution_count": null,
   "metadata": {
    "colab": {
     "base_uri": "https://localhost:8080/",
     "height": 295
    },
    "id": "vq4KKGZRMrm9",
    "outputId": "2a282394-ac9c-4593-b847-52795a275014"
   },
   "outputs": [
    {
     "data": {
      "image/png": "[encoded data removed]",
      "text/plain": [
       "<Figure size 432x288 with 1 Axes>"
      ]
     },
     "metadata": {
      "needs_background": "light"
     },
     "output_type": "display_data"
    }
   ],
   "source": [
    "plt.plot(K[:50], distortions[:50], 'bx-')\n",
    "plt.xlabel('Values of K')\n",
    "plt.ylabel('Distortion')\n",
    "plt.xticks(range(1,20))\n",
    "plt.title('The Elbow Method using Distortion')\n",
    "plt.show()"
   ]
  },
  {
   "cell_type": "markdown",
   "metadata": {
    "id": "vrfkSKGI51vY"
   },
   "source": [
    "# Clusters\n"
   ]
  },
  {
   "cell_type": "code",
   "execution_count": null,
   "metadata": {
    "id": "fM123IYysaxt"
   },
   "outputs": [],
   "source": [
    "#Initialize the class object\n",
    "labels = {}\n",
    "for n_clust in range(2,100):\n",
    "  kmeans = KMeans(n_clusters= n_clust)\n",
    "  \n",
    "  #predict the labels of clusters.\n",
    "  label = kmeans.fit_predict(mu)\n",
    "  cluster_ = \"Clusters_{}\".format(n_clust)\n",
    "  labels[cluster_] = label\n",
    "  # np.unique(label,return_counts=True)\n",
    "  # plot_clusters(df,label)\n"
   ]
  },
  {
   "cell_type": "code",
   "execution_count": null,
   "metadata": {
    "colab": {
     "base_uri": "https://localhost:8080/"
    },
    "id": "qdkyk4U-7Fj_",
    "outputId": "086cb412-d605-4fca-c94b-5c360c1c0325"
   },
   "outputs": [
    {
     "name": "stdout",
     "output_type": "stream",
     "text": [
      "[ 0  1  2  3  4  5  6  7  8  9 10 11]\n"
     ]
    }
   ],
   "source": [
    "Target = \"Phenotype\"\n",
    "cluster_directory =  'drive/MyDrive/ACBProj/Cluster/{}'.format(Target)\n",
    "\n",
    "dictionary = labels\n",
    "np.save('{}/cluster_labels_rpe1_upto_100.npy'.format(cluster_directory), dictionary) \n",
    "\n",
    "# Load\n",
    "read_dictionary = np.load('{}/cluster_labels_rpe1_upto_100.npy'.format(cluster_directory),allow_pickle='TRUE').item()\n",
    "print(np.unique(read_dictionary['Clusters_12'])) # displays \"world\""
   ]
  },
  {
   "cell_type": "code",
   "execution_count": null,
   "metadata": {
    "id": "CblU0GbX6eKP"
   },
   "outputs": [],
   "source": [
    "input_data = pd.read_csv('drive/MyDrive/ACBProj/ProcessedPerturbSeqData/average_RPE1_essential_normalized_singlecell_fold_0.csv')\n",
    "read_dictionary['Phenotype'] = list(input_data.iloc[:,1:].columns)\n",
    "# read_dictionary['Genotype'] = list(input_data['gene_id'])\n",
    "\n",
    "df = pd.DataFrame.from_dict(read_dictionary)\n",
    "# print(df.columns)\n",
    "cols = list(df)\n",
    "cols.insert(0, cols.pop(cols.index('Phenotype')))\n",
    "df = df.loc[:, cols]\n",
    "df.to_csv(\"{}/ClustersUpto100_Phenotype.csv\".format(cluster_directory),index=False)"
   ]
  }
 ],
 "metadata": {
  "accelerator": "GPU",
  "colab": {
   "provenance": []
  },
  "gpuClass": "standard",
  "kernelspec": {
   "display_name": "gpu_env",
   "language": "python",
   "name": "gpu_env"
  },
  "language_info": {
   "codemirror_mode": {
    "name": "ipython",
    "version": 3
   },
   "file_extension": ".py",
   "mimetype": "text/x-python",
   "name": "python",
   "nbconvert_exporter": "python",
   "pygments_lexer": "ipython3",
   "version": "3.10.8"
  }
 },
 "nbformat": 4,
 "nbformat_minor": 4
}
